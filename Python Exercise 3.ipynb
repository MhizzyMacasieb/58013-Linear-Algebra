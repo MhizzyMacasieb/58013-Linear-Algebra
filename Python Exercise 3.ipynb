{
  "nbformat": 4,
  "nbformat_minor": 0,
  "metadata": {
    "colab": {
      "provenance": [],
      "authorship_tag": "ABX9TyPlyzxBDOHfWMGWRbnq5hO2",
      "include_colab_link": true
    },
    "kernelspec": {
      "name": "python3",
      "display_name": "Python 3"
    },
    "language_info": {
      "name": "python"
    }
  },
  "cells": [
    {
      "cell_type": "markdown",
      "metadata": {
        "id": "view-in-github",
        "colab_type": "text"
      },
      "source": [
        "<a href=\"https://colab.research.google.com/github/MhizzyMacasieb/58013-Linear-Algebra/blob/main/Python%20Exercise%203.ipynb\" target=\"_parent\"><img src=\"https://colab.research.google.com/assets/colab-badge.svg\" alt=\"Open In Colab\"/></a>"
      ]
    },
    {
      "cell_type": "markdown",
      "source": [
        "**Vector Addition**"
      ],
      "metadata": {
        "id": "uL8eJj359aZ1"
      }
    },
    {
      "cell_type": "code",
      "source": [
        "import numpy as np\n",
        "\n",
        "A = np.array([1,2,0])\n",
        "B = np.array([3,1,-2])\n",
        "C = np.array([0,0,1])\n",
        "\n",
        "A+B+C\n",
        "print(np.add(A,np.add(B,C)))\n",
        "np.sum(B)"
      ],
      "metadata": {
        "colab": {
          "base_uri": "https://localhost:8080/"
        },
        "id": "OD0Y3-wP-tzU",
        "outputId": "664f3596-4517-436d-9ac3-2464221e3c39"
      },
      "execution_count": 2,
      "outputs": [
        {
          "output_type": "stream",
          "name": "stdout",
          "text": [
            "[ 4  3 -1]\n"
          ]
        },
        {
          "output_type": "execute_result",
          "data": {
            "text/plain": [
              "2"
            ]
          },
          "metadata": {},
          "execution_count": 2
        }
      ]
    },
    {
      "cell_type": "markdown",
      "source": [
        "**Vector Subtraction**"
      ],
      "metadata": {
        "id": "9ZeQmGC--vga"
      }
    },
    {
      "cell_type": "code",
      "source": [
        "np.subtract(A,B)\n",
        "\n",
        "A-B"
      ],
      "metadata": {
        "colab": {
          "base_uri": "https://localhost:8080/"
        },
        "id": "BMif-gRW-1tB",
        "outputId": "42bebb5c-51a7-4229-fa5f-4bc4db5d64ca"
      },
      "execution_count": 3,
      "outputs": [
        {
          "output_type": "execute_result",
          "data": {
            "text/plain": [
              "array([-2,  1,  2])"
            ]
          },
          "metadata": {},
          "execution_count": 3
        }
      ]
    },
    {
      "cell_type": "markdown",
      "source": [
        "**Vector Multiplication**"
      ],
      "metadata": {
        "id": "hBqORiqb-3mp"
      }
    },
    {
      "cell_type": "code",
      "source": [
        "np.multiply(A,B)\n",
        "\n",
        "A*B"
      ],
      "metadata": {
        "colab": {
          "base_uri": "https://localhost:8080/"
        },
        "id": "ViguhYZL-9DS",
        "outputId": "3716e49c-c42c-4492-f5c9-1951d1c7c90d"
      },
      "execution_count": 4,
      "outputs": [
        {
          "output_type": "execute_result",
          "data": {
            "text/plain": [
              "array([3, 2, 0])"
            ]
          },
          "metadata": {},
          "execution_count": 4
        }
      ]
    },
    {
      "cell_type": "markdown",
      "source": [
        "**Vector Division**"
      ],
      "metadata": {
        "id": "IqQy3wfA-_J5"
      }
    },
    {
      "cell_type": "code",
      "source": [
        "np.divide(A,B)\n",
        "\n",
        "A/B\n",
        "\n",
        "C = np.array([3.9,1.8,7.7])\n",
        "D = np.array([1,1,1])\n",
        "print(C/D)\n",
        "\n",
        "np.array(A/B,dtype=int)"
      ],
      "metadata": {
        "colab": {
          "base_uri": "https://localhost:8080/"
        },
        "id": "69ksBs_0-_ay",
        "outputId": "3cdc57a8-c98b-421f-ac45-7a7f87ff311a"
      },
      "execution_count": 5,
      "outputs": [
        {
          "output_type": "stream",
          "name": "stdout",
          "text": [
            "[3.9 1.8 7.7]\n"
          ]
        },
        {
          "output_type": "execute_result",
          "data": {
            "text/plain": [
              "array([0, 2, 0])"
            ]
          },
          "metadata": {},
          "execution_count": 5
        }
      ]
    }
  ]
}