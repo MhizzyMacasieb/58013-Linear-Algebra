{
  "nbformat": 4,
  "nbformat_minor": 0,
  "metadata": {
    "colab": {
      "provenance": [],
      "authorship_tag": "ABX9TyOO8yUz7Eo2HaBi3DixhZiy",
      "include_colab_link": true
    },
    "kernelspec": {
      "name": "python3",
      "display_name": "Python 3"
    },
    "language_info": {
      "name": "python"
    }
  },
  "cells": [
    {
      "cell_type": "markdown",
      "metadata": {
        "id": "view-in-github",
        "colab_type": "text"
      },
      "source": [
        "<a href=\"https://colab.research.google.com/github/MhizzyMacasieb/58013-Linear-Algebra/blob/main/Long_Quiz_1.ipynb\" target=\"_parent\"><img src=\"https://colab.research.google.com/assets/colab-badge.svg\" alt=\"Open In Colab\"/></a>"
      ]
    },
    {
      "cell_type": "code",
      "source": [
        "import numpy as np\n",
        "A = np.array ([[1,2,3],[4,5,6]])\n",
        "B = np.array ([[1,2],[3,4],[5,6]])\n",
        "C = np.array ([[1,2,3],[4,5,6],[7,8,9]])\n",
        "D = np.array ([[1,2],[3,4]])\n",
        "\n",
        "print(\"a) AB = \")\n",
        "print(np.dot(A,B))\n",
        "\n",
        "print(\"\\nb) D + D = \")\n",
        "print(np.add(D,D))\n",
        "\n",
        "print(\"\\nc) 2C = \")\n",
        "print(2*C)"
      ],
      "metadata": {
        "colab": {
          "base_uri": "https://localhost:8080/"
        },
        "id": "1UQF3Q0Wjwf1",
        "outputId": "b37e29fb-6674-4a2d-f01e-ce86ecd21f4e"
      },
      "execution_count": 1,
      "outputs": [
        {
          "output_type": "stream",
          "name": "stdout",
          "text": [
            "a) AB = \n",
            "[[22 28]\n",
            " [49 64]]\n",
            "\n",
            "b) D + D = \n",
            "[[2 4]\n",
            " [6 8]]\n",
            "\n",
            "c) 2C = \n",
            "[[ 2  4  6]\n",
            " [ 8 10 12]\n",
            " [14 16 18]]\n"
          ]
        }
      ]
    },
    {
      "cell_type": "code",
      "source": [
        "A = np.array ([2,7,4])\n",
        "B = np.array ([3,9,8])\n",
        "\n",
        "print(\"Cross product of A & B = \")\n",
        "print(np.cross(A,B))"
      ],
      "metadata": {
        "colab": {
          "base_uri": "https://localhost:8080/"
        },
        "id": "ARSjQX0djyjA",
        "outputId": "cef6a793-dcfb-4098-da02-3b3d5ca908eb"
      },
      "execution_count": 2,
      "outputs": [
        {
          "output_type": "stream",
          "name": "stdout",
          "text": [
            "Cross product of A & B = \n",
            "[20 -4 -3]\n"
          ]
        }
      ]
    }
  ]
}