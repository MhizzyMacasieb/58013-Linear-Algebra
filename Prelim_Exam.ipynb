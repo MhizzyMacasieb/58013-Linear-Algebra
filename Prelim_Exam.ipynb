{
  "nbformat": 4,
  "nbformat_minor": 0,
  "metadata": {
    "colab": {
      "provenance": [],
      "authorship_tag": "ABX9TyPsaOhuBHtmbmGkOU4QWeHE",
      "include_colab_link": true
    },
    "kernelspec": {
      "name": "python3",
      "display_name": "Python 3"
    },
    "language_info": {
      "name": "python"
    }
  },
  "cells": [
    {
      "cell_type": "markdown",
      "metadata": {
        "id": "view-in-github",
        "colab_type": "text"
      },
      "source": [
        "<a href=\"https://colab.research.google.com/github/MhizzyMacasieb/58013-Linear-Algebra/blob/main/Prelim_Exam.ipynb\" target=\"_parent\"><img src=\"https://colab.research.google.com/assets/colab-badge.svg\" alt=\"Open In Colab\"/></a>"
      ]
    },
    {
      "cell_type": "markdown",
      "source": [
        "**Question 1. Create a Multiplication Table/Chart of 1 to 10 using numpy/pyhton program.**"
      ],
      "metadata": {
        "id": "HYeWhRMFvQWw"
      }
    },
    {
      "cell_type": "code",
      "source": [
        "import numpy as np\n",
        "\n",
        "num = np.arange(1, 11)\n",
        "\n",
        "table = np.outer(num, num)\n",
        "\n",
        "print(table)"
      ],
      "metadata": {
        "colab": {
          "base_uri": "https://localhost:8080/"
        },
        "id": "lXAjCehPwSUL",
        "outputId": "654fda7c-2b6a-448d-c4cd-81aa5db059f2"
      },
      "execution_count": 1,
      "outputs": [
        {
          "output_type": "stream",
          "name": "stdout",
          "text": [
            "[[  1   2   3   4   5   6   7   8   9  10]\n",
            " [  2   4   6   8  10  12  14  16  18  20]\n",
            " [  3   6   9  12  15  18  21  24  27  30]\n",
            " [  4   8  12  16  20  24  28  32  36  40]\n",
            " [  5  10  15  20  25  30  35  40  45  50]\n",
            " [  6  12  18  24  30  36  42  48  54  60]\n",
            " [  7  14  21  28  35  42  49  56  63  70]\n",
            " [  8  16  24  32  40  48  56  64  72  80]\n",
            " [  9  18  27  36  45  54  63  72  81  90]\n",
            " [ 10  20  30  40  50  60  70  80  90 100]]\n"
          ]
        }
      ]
    },
    {
      "cell_type": "markdown",
      "source": [
        "**Question 2. In relation to Question 1, show a solution that doubles all the values of each element.**"
      ],
      "metadata": {
        "id": "U-YMGqLsvebQ"
      }
    },
    {
      "cell_type": "code",
      "source": [
        "double = table*2\n",
        "print(double)"
      ],
      "metadata": {
        "colab": {
          "base_uri": "https://localhost:8080/"
        },
        "id": "RrqHNzs9wR74",
        "outputId": "aa4d0e4e-7fde-4927-be89-59a511c3bc7e"
      },
      "execution_count": 2,
      "outputs": [
        {
          "output_type": "stream",
          "name": "stdout",
          "text": [
            "[[  2   4   6   8  10  12  14  16  18  20]\n",
            " [  4   8  12  16  20  24  28  32  36  40]\n",
            " [  6  12  18  24  30  36  42  48  54  60]\n",
            " [  8  16  24  32  40  48  56  64  72  80]\n",
            " [ 10  20  30  40  50  60  70  80  90 100]\n",
            " [ 12  24  36  48  60  72  84  96 108 120]\n",
            " [ 14  28  42  56  70  84  98 112 126 140]\n",
            " [ 16  32  48  64  80  96 112 128 144 160]\n",
            " [ 18  36  54  72  90 108 126 144 162 180]\n",
            " [ 20  40  60  80 100 120 140 160 180 200]]\n"
          ]
        }
      ]
    },
    {
      "cell_type": "markdown",
      "source": [
        "**Question 3. Create a square matrix that has a diagonal 1's.**"
      ],
      "metadata": {
        "id": "lj7KFaC7vvcH"
      }
    },
    {
      "cell_type": "code",
      "source": [
        "X = np.eye(5,5)\n",
        "print(X)"
      ],
      "metadata": {
        "colab": {
          "base_uri": "https://localhost:8080/"
        },
        "id": "WcVV1QzywRVv",
        "outputId": "68d97c08-80e9-458b-9b52-26bd334fd314"
      },
      "execution_count": 4,
      "outputs": [
        {
          "output_type": "stream",
          "name": "stdout",
          "text": [
            "[[1. 0. 0. 0. 0.]\n",
            " [0. 1. 0. 0. 0.]\n",
            " [0. 0. 1. 0. 0.]\n",
            " [0. 0. 0. 1. 0.]\n",
            " [0. 0. 0. 0. 1.]]\n"
          ]
        }
      ]
    },
    {
      "cell_type": "markdown",
      "source": [
        "**Question 4. Create a matrix whose elements are:**"
      ],
      "metadata": {
        "id": "UnD9ysFov6o0"
      }
    },
    {
      "cell_type": "code",
      "source": [
        "matrix = np.array([[1, 2, 3, 4],\n",
        "                   [5, 6, 7, 8],\n",
        "                   [9, 10, 11, 12]])\n",
        "\n",
        "print(matrix)\n",
        "\n",
        "size = matrix.size #size\n",
        "shape = matrix.shape #shape\n",
        "dimension = matrix.ndim #dimension\n",
        "\n",
        "print(\"\\nSize of the Matrix is: \", size)\n",
        "print(\"Shape of the Matrix is: \", shape)\n",
        "print(\"Dimension of the Matrix: \", dimension)"
      ],
      "metadata": {
        "colab": {
          "base_uri": "https://localhost:8080/"
        },
        "id": "cwVGbQs3wRqa",
        "outputId": "fc78b213-a257-47b5-aa89-7bdbaf6b4af8"
      },
      "execution_count": 5,
      "outputs": [
        {
          "output_type": "stream",
          "name": "stdout",
          "text": [
            "[[ 1  2  3  4]\n",
            " [ 5  6  7  8]\n",
            " [ 9 10 11 12]]\n",
            "\n",
            "Size of the Matrix is:  12\n",
            "Shape of the Matrix is:  (3, 4)\n",
            "Dimension of the Matrix:  2\n"
          ]
        }
      ]
    },
    {
      "cell_type": "markdown",
      "source": [
        "**Question 5. Create a result array by adding the following two NumPy arrays. Next, modify the result array by calculating the square of each element.**"
      ],
      "metadata": {
        "id": "vdTGiT-jv_l2"
      }
    },
    {
      "cell_type": "code",
      "source": [
        "arrayOne = np.array([[5,6,9],[21,18,27]])\n",
        "arrayTwo = np.array([[15,33,24],[4,7,1]])\n",
        "print(\"arrayOne:\")\n",
        "print(arrayOne)\n",
        "print(\"\\narrayTwo:\")\n",
        "print(arrayTwo)\n",
        "\n",
        "print(\"\\nSum of arrayOne and arrayTwo: \")\n",
        "x = arrayOne + arrayTwo\n",
        "print(x)\n",
        "\n",
        "print(\"\\n Square of the Sum: \")\n",
        "print(x**2)"
      ],
      "metadata": {
        "colab": {
          "base_uri": "https://localhost:8080/"
        },
        "id": "lGQRJGsHwQts",
        "outputId": "21fa3bbd-9d2e-4ab1-c92d-7fc6a0fd2a05"
      },
      "execution_count": 6,
      "outputs": [
        {
          "output_type": "stream",
          "name": "stdout",
          "text": [
            "arrayOne:\n",
            "[[ 5  6  9]\n",
            " [21 18 27]]\n",
            "\n",
            "arrayTwo:\n",
            "[[15 33 24]\n",
            " [ 4  7  1]]\n",
            "\n",
            "Sum of arrayOne and arrayTwo: \n",
            "[[20 39 33]\n",
            " [25 25 28]]\n",
            "\n",
            " Square of the Sum: \n",
            "[[ 400 1521 1089]\n",
            " [ 625  625  784]]\n"
          ]
        }
      ]
    }
  ]
}