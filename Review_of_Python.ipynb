{
  "nbformat": 4,
  "nbformat_minor": 0,
  "metadata": {
    "colab": {
      "provenance": [],
      "authorship_tag": "ABX9TyNESezHDmDJ16mfc0NFhqNO",
      "include_colab_link": true
    },
    "kernelspec": {
      "name": "python3",
      "display_name": "Python 3"
    },
    "language_info": {
      "name": "python"
    }
  },
  "cells": [
    {
      "cell_type": "markdown",
      "metadata": {
        "id": "view-in-github",
        "colab_type": "text"
      },
      "source": [
        "<a href=\"https://colab.research.google.com/github/MhizzyMacasieb/58013-Linear-Algebra/blob/main/Review_of_Python.ipynb\" target=\"_parent\"><img src=\"https://colab.research.google.com/assets/colab-badge.svg\" alt=\"Open In Colab\"/></a>"
      ]
    },
    {
      "cell_type": "markdown",
      "source": [
        "**Python Indentation**"
      ],
      "metadata": {
        "id": "vKCIeUk021_S"
      }
    },
    {
      "cell_type": "code",
      "source": [
        "if 5>2:\n",
        "  print(\"Five is greater than two!\")"
      ],
      "metadata": {
        "id": "JTNzTZwNrlAo",
        "colab": {
          "base_uri": "https://localhost:8080/"
        },
        "outputId": "571e1e12-56d9-4973-e3f4-bfb611108c9d"
      },
      "execution_count": 1,
      "outputs": [
        {
          "output_type": "stream",
          "name": "stdout",
          "text": [
            "Five is greater than two!\n"
          ]
        }
      ]
    },
    {
      "cell_type": "markdown",
      "source": [
        "**This is Comment**"
      ],
      "metadata": {
        "id": "RWgajl2p4SNY"
      }
    },
    {
      "cell_type": "code",
      "source": [
        "print(\"Hello, World\")"
      ],
      "metadata": {
        "colab": {
          "base_uri": "https://localhost:8080/"
        },
        "id": "jP7EqoFI4VkY",
        "outputId": "c4fa6c4e-f8cb-4422-a725-cba5b0a114c2"
      },
      "execution_count": 2,
      "outputs": [
        {
          "output_type": "stream",
          "name": "stdout",
          "text": [
            "Hello, World\n"
          ]
        }
      ]
    },
    {
      "cell_type": "markdown",
      "source": [
        "**Python Variable**"
      ],
      "metadata": {
        "id": "yMZzXC7e4akc"
      }
    },
    {
      "cell_type": "code",
      "source": [
        "x=1\n",
        "a, b=0, -1\n",
        "a, b, c=0, -1, 2\n",
        "\n",
        "b=\"Sally\" #This is a Type of String"
      ],
      "metadata": {
        "id": "WqxVLYAd4e4q"
      },
      "execution_count": null,
      "outputs": []
    },
    {
      "cell_type": "markdown",
      "source": [
        "**Casting**"
      ],
      "metadata": {
        "id": "LeRG_uD84tUL"
      }
    },
    {
      "cell_type": "code",
      "source": [
        "b=\"Sally\" #This is a Type of String\n",
        "b=int(4)\n",
        "print(b)\n",
        "\n",
        "b=float(4)\n",
        "print(b)"
      ],
      "metadata": {
        "colab": {
          "base_uri": "https://localhost:8080/"
        },
        "id": "EKfJPGK24uwI",
        "outputId": "c694f470-0bea-401d-9aaf-9c67c72e7018"
      },
      "execution_count": 3,
      "outputs": [
        {
          "output_type": "stream",
          "name": "stdout",
          "text": [
            "4\n",
            "4.0\n"
          ]
        }
      ]
    },
    {
      "cell_type": "markdown",
      "source": [
        "**Type() Function**"
      ],
      "metadata": {
        "id": "aopVC003471J"
      }
    },
    {
      "cell_type": "code",
      "source": [
        "x=5\n",
        "y=\"John\"\n",
        "print(type(x))\n",
        "print(type(y))"
      ],
      "metadata": {
        "colab": {
          "base_uri": "https://localhost:8080/"
        },
        "id": "fuGxIKue4-dx",
        "outputId": "13aefc18-1502-4d2d-8840-c23b26a7ceb8"
      },
      "execution_count": 4,
      "outputs": [
        {
          "output_type": "stream",
          "name": "stdout",
          "text": [
            "<class 'int'>\n",
            "<class 'str'>\n"
          ]
        }
      ]
    },
    {
      "cell_type": "markdown",
      "source": [
        "**\"Double Quotes\" or 'Single Quotes'**"
      ],
      "metadata": {
        "id": "oU1mKqET5G-e"
      }
    },
    {
      "cell_type": "code",
      "source": [
        "y=\"John\"\n",
        "y='John'"
      ],
      "metadata": {
        "id": "RnTt_eGh5RGj"
      },
      "execution_count": 5,
      "outputs": []
    },
    {
      "cell_type": "markdown",
      "source": [
        "**Case Sensitive**"
      ],
      "metadata": {
        "id": "tdW8D4l85dEQ"
      }
    },
    {
      "cell_type": "code",
      "source": [
        "a=4\n",
        "A=\"Sally\" #A will not overwrite a"
      ],
      "metadata": {
        "id": "uo1KNijv5fEp"
      },
      "execution_count": 6,
      "outputs": []
    },
    {
      "cell_type": "markdown",
      "source": [
        "**Multiple Variables**"
      ],
      "metadata": {
        "id": "1thfzvtQ5pDs"
      }
    },
    {
      "cell_type": "code",
      "source": [
        "x,y,z=\"one\",\"two\",\"three\"\n",
        "print(x)\n",
        "print(y)\n",
        "print(z)"
      ],
      "metadata": {
        "colab": {
          "base_uri": "https://localhost:8080/"
        },
        "id": "zLLkT6gU5u1v",
        "outputId": "3c998912-ddad-489f-8c09-41bcdd4260c9"
      },
      "execution_count": 7,
      "outputs": [
        {
          "output_type": "stream",
          "name": "stdout",
          "text": [
            "one\n",
            "two\n",
            "three\n"
          ]
        }
      ]
    },
    {
      "cell_type": "markdown",
      "source": [
        "**One Value to Multiple Variables**"
      ],
      "metadata": {
        "id": "HO-wAo7U54Wt"
      }
    },
    {
      "cell_type": "code",
      "source": [
        "x=y=z=\"four\"\n",
        "print(x)\n",
        "print(y)\n",
        "print(z)"
      ],
      "metadata": {
        "colab": {
          "base_uri": "https://localhost:8080/"
        },
        "id": "_oiZpUyu5_6f",
        "outputId": "404aaf16-19ee-4d8c-cf40-0348d5cb2906"
      },
      "execution_count": 8,
      "outputs": [
        {
          "output_type": "stream",
          "name": "stdout",
          "text": [
            "four\n",
            "four\n",
            "four\n"
          ]
        }
      ]
    },
    {
      "cell_type": "markdown",
      "source": [
        "**Output Variables**"
      ],
      "metadata": {
        "id": "FNMexDIS6GZR"
      }
    },
    {
      "cell_type": "code",
      "source": [
        "x=\"enjoying\"\n",
        "\n",
        "print(\"Python Programming is \"+ x)"
      ],
      "metadata": {
        "colab": {
          "base_uri": "https://localhost:8080/"
        },
        "id": "YruKE5WU6JPL",
        "outputId": "19e4066d-b503-4ce3-9616-62be16bf4c5a"
      },
      "execution_count": 9,
      "outputs": [
        {
          "output_type": "stream",
          "name": "stdout",
          "text": [
            "Python Programming is enjoying\n"
          ]
        }
      ]
    },
    {
      "cell_type": "markdown",
      "source": [
        "**Other Way**"
      ],
      "metadata": {
        "id": "1vJgHMN86SYz"
      }
    },
    {
      "cell_type": "code",
      "source": [
        "x=\"Python is \"\n",
        "y=\"enjoying\"\n",
        "z=x+y\n",
        "print(z)"
      ],
      "metadata": {
        "colab": {
          "base_uri": "https://localhost:8080/"
        },
        "id": "gBZxdlTE6buN",
        "outputId": "801f5c45-02f6-4536-879b-bf45668ce4a3"
      },
      "execution_count": 10,
      "outputs": [
        {
          "output_type": "stream",
          "name": "stdout",
          "text": [
            "Python is enjoying\n"
          ]
        }
      ]
    },
    {
      "cell_type": "markdown",
      "source": [
        "**Arithmetic Operation**"
      ],
      "metadata": {
        "id": "ZDs6kRTX6kGi"
      }
    },
    {
      "cell_type": "code",
      "source": [
        "x=5\n",
        "y=3\n",
        "print(x+y)\n",
        "\n",
        "x=5\n",
        "y=3\n",
        "sum=x+y\n",
        "sum"
      ],
      "metadata": {
        "colab": {
          "base_uri": "https://localhost:8080/"
        },
        "id": "Yi9Mi5Ma6nxb",
        "outputId": "73fe8794-ce60-4cbf-8a4a-5a6a08f08d4b"
      },
      "execution_count": 11,
      "outputs": [
        {
          "output_type": "stream",
          "name": "stdout",
          "text": [
            "8\n"
          ]
        },
        {
          "output_type": "execute_result",
          "data": {
            "text/plain": [
              "8"
            ]
          },
          "metadata": {},
          "execution_count": 11
        }
      ]
    },
    {
      "cell_type": "markdown",
      "source": [
        "**Assignment Operator**"
      ],
      "metadata": {
        "id": "JS-w1GNV6zg1"
      }
    },
    {
      "cell_type": "code",
      "source": [
        "a,b,c=0,-1,6\n",
        "c%=3\n",
        "c"
      ],
      "metadata": {
        "colab": {
          "base_uri": "https://localhost:8080/"
        },
        "id": "HBmGioYA61-a",
        "outputId": "58669ef6-9753-485f-8e1d-5caf39ac21d3"
      },
      "execution_count": 12,
      "outputs": [
        {
          "output_type": "execute_result",
          "data": {
            "text/plain": [
              "0"
            ]
          },
          "metadata": {},
          "execution_count": 12
        }
      ]
    },
    {
      "cell_type": "markdown",
      "source": [
        "**Comparison Operator and Logical Operator**"
      ],
      "metadata": {
        "id": "TypnLToN671Q"
      }
    },
    {
      "cell_type": "code",
      "source": [
        "a,b,c=0,-1,6\n",
        "a>b and c>b\n",
        "True"
      ],
      "metadata": {
        "colab": {
          "base_uri": "https://localhost:8080/"
        },
        "id": "jd41SDVG7C3c",
        "outputId": "ee95e2e4-b092-4e4c-aed3-0b1095d39d1e"
      },
      "execution_count": 13,
      "outputs": [
        {
          "output_type": "execute_result",
          "data": {
            "text/plain": [
              "True"
            ]
          },
          "metadata": {},
          "execution_count": 13
        }
      ]
    },
    {
      "cell_type": "markdown",
      "source": [
        "**Identity Operator**"
      ],
      "metadata": {
        "id": "SV0871mb7JQ_"
      }
    },
    {
      "cell_type": "code",
      "source": [
        "a,b,c=0,-1,5\n",
        "a is c\n",
        "False"
      ],
      "metadata": {
        "colab": {
          "base_uri": "https://localhost:8080/"
        },
        "id": "Q0GEiZx77OZw",
        "outputId": "0f6cdbae-3246-4e7f-99cd-408797f1f0fc"
      },
      "execution_count": 14,
      "outputs": [
        {
          "output_type": "execute_result",
          "data": {
            "text/plain": [
              "False"
            ]
          },
          "metadata": {},
          "execution_count": 14
        }
      ]
    },
    {
      "cell_type": "markdown",
      "source": [
        "**Bitwise Operator**"
      ],
      "metadata": {
        "id": "QqmXx-4i7T2y"
      }
    },
    {
      "cell_type": "code",
      "source": [
        "a,b,c=0,-1,5\n",
        "c>>5\n",
        "\n",
        "0"
      ],
      "metadata": {
        "colab": {
          "base_uri": "https://localhost:8080/"
        },
        "id": "wQbSxigI7WVW",
        "outputId": "e0ced780-fd20-4670-97c3-773cbf53fb42"
      },
      "execution_count": 15,
      "outputs": [
        {
          "output_type": "execute_result",
          "data": {
            "text/plain": [
              "0"
            ]
          },
          "metadata": {},
          "execution_count": 15
        }
      ]
    }
  ]
}