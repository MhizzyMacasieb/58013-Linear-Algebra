{
  "nbformat": 4,
  "nbformat_minor": 0,
  "metadata": {
    "colab": {
      "provenance": [],
      "authorship_tag": "ABX9TyPnel8ZBScnbOLoZzXKQip2",
      "include_colab_link": true
    },
    "kernelspec": {
      "name": "python3",
      "display_name": "Python 3"
    },
    "language_info": {
      "name": "python"
    }
  },
  "cells": [
    {
      "cell_type": "markdown",
      "metadata": {
        "id": "view-in-github",
        "colab_type": "text"
      },
      "source": [
        "<a href=\"https://colab.research.google.com/github/MhizzyMacasieb/58013-Linear-Algebra/blob/main/Laboratory_No2.ipynb\" target=\"_parent\"><img src=\"https://colab.research.google.com/assets/colab-badge.svg\" alt=\"Open In Colab\"/></a>"
      ]
    },
    {
      "cell_type": "markdown",
      "source": [
        "**Scalars**"
      ],
      "metadata": {
        "id": "auVTR_d4nNJH"
      }
    },
    {
      "cell_type": "code",
      "source": [
        "import numpy as np\n",
        "\n",
        "x = np.array(-0.5)\n",
        "x"
      ],
      "metadata": {
        "colab": {
          "base_uri": "https://localhost:8080/"
        },
        "id": "1uxsaD-TlDvZ",
        "outputId": "bb64a524-d7ce-447b-9dbc-0b09278ce34d"
      },
      "execution_count": null,
      "outputs": [
        {
          "output_type": "execute_result",
          "data": {
            "text/plain": [
              "array(-0.5)"
            ]
          },
          "metadata": {},
          "execution_count": 1
        }
      ]
    },
    {
      "cell_type": "markdown",
      "source": [
        "**Vectors**"
      ],
      "metadata": {
        "id": "P0ACZDurnRIP"
      }
    },
    {
      "cell_type": "code",
      "source": [
        "A = np.array([4,3])\n",
        "B = np.array([2, -5])\n",
        "\n",
        "print(\"Vector A is\", A)\n",
        "print(\"Vector B is\", B)"
      ],
      "metadata": {
        "colab": {
          "base_uri": "https://localhost:8080/"
        },
        "id": "udSYszgzlHVZ",
        "outputId": "3664ceb9-aa6f-4813-e8ca-fe274d26f0ad"
      },
      "execution_count": null,
      "outputs": [
        {
          "output_type": "stream",
          "name": "stdout",
          "text": [
            "Vector A is [4 3]\n",
            "Vector B is [ 2 -5]\n"
          ]
        }
      ]
    },
    {
      "cell_type": "markdown",
      "source": [
        "**Describing Vectors in NumPy**"
      ],
      "metadata": {
        "id": "AslN3f1-nUGe"
      }
    },
    {
      "cell_type": "code",
      "source": [
        "import numpy as np\n",
        "\n",
        "# Describing shapes\n",
        "\n",
        "# Checking shapes\n",
        "# Shapes tell us how many rows and columns are there\n",
        "ball1 = np.array([1, 2, 3])\n",
        "ball2 = np.array([0, 1, -1])\n",
        "pool = np.array([[ball1, ball2]])\n",
        "\n",
        "print(\"Shape of 'pool':\", pool.shape)\n",
        "\n",
        "U = np.array([[1, 2], [2, 3]])\n",
        "print(\"Shape of 'U':\", U.shape)\n",
        "\n",
        "# Checking size\n",
        "# Array/Vector sizes tell us the total number of elements in the vector\n",
        "print(\"Size of 'U':\", U.size)\n",
        "\n",
        "# Checking dimensions\n",
        "# The dimensions or rank of a vector tell us how many dimensions are there for the vector\n",
        "print(\"Dimensions of 'A':\", A.ndim)\n",
        "print(\"Dimensions of 'pool':\", pool.ndim)"
      ],
      "metadata": {
        "colab": {
          "base_uri": "https://localhost:8080/"
        },
        "id": "iZ_e02bUlIxY",
        "outputId": "7db48bd3-1702-4edc-b19e-2a7d457a9d99"
      },
      "execution_count": null,
      "outputs": [
        {
          "output_type": "stream",
          "name": "stdout",
          "text": [
            "Shape of 'pool': (1, 2, 3)\n",
            "Shape of 'U': (2, 2)\n",
            "Size of 'U': 4\n",
            "Dimensions of 'A': 1\n",
            "Dimensions of 'pool': 3\n"
          ]
        }
      ]
    }
  ]
}