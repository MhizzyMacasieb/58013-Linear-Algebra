{
  "nbformat": 4,
  "nbformat_minor": 0,
  "metadata": {
    "colab": {
      "provenance": [],
      "authorship_tag": "ABX9TyNrr/oaDFvoeUi1s1ZdPG/S",
      "include_colab_link": true
    },
    "kernelspec": {
      "name": "python3",
      "display_name": "Python 3"
    },
    "language_info": {
      "name": "python"
    }
  },
  "cells": [
    {
      "cell_type": "markdown",
      "metadata": {
        "id": "view-in-github",
        "colab_type": "text"
      },
      "source": [
        "<a href=\"https://colab.research.google.com/github/MhizzyMacasieb/58013-Linear-Algebra/blob/main/Python%20Exercise%2010.ipynb\" target=\"_parent\"><img src=\"https://colab.research.google.com/assets/colab-badge.svg\" alt=\"Open In Colab\"/></a>"
      ]
    },
    {
      "cell_type": "code",
      "source": [
        "import numpy as np\n",
        "\n",
        "X = np.array([\n",
        "    [1,1,1],\n",
        "    [3,-2,-1],\n",
        "    [-1,4,2]\n",
        "], dtype=float)\n",
        "Y = np.array([\n",
        "    [1],\n",
        "    [4],\n",
        "    [-3]\n",
        "],dtype=float)\n",
        "print(X)\n",
        "print(X.shape)\n",
        "print(Y)\n",
        "print(Y.shape)"
      ],
      "metadata": {
        "colab": {
          "base_uri": "https://localhost:8080/"
        },
        "id": "-qQ_DH4BRR_C",
        "outputId": "5731489f-5ef4-4b1e-acbd-8e2e8450d6d8"
      },
      "execution_count": 30,
      "outputs": [
        {
          "output_type": "stream",
          "name": "stdout",
          "text": [
            "[[ 1.  1.  1.]\n",
            " [ 3. -2. -1.]\n",
            " [-1.  4.  2.]]\n",
            "(3, 3)\n",
            "[[ 1.]\n",
            " [ 4.]\n",
            " [-3.]]\n",
            "(3, 1)\n"
          ]
        }
      ]
    },
    {
      "cell_type": "code",
      "source": [
        "A = np.array([[30,10,120],[40,20,200],[50,40,360]])\n",
        "B = np.array([12500,18000,25700])\n",
        "print(A)\n",
        "print(B)\n",
        "\n",
        "solve = np.linalg.solve(A,B)\n",
        "print(solve)"
      ],
      "metadata": {
        "colab": {
          "base_uri": "https://localhost:8080/"
        },
        "id": "7_GOFHDeRVIQ",
        "outputId": "6d726d03-9d2c-4742-88f6-35e7bddbf274"
      },
      "execution_count": 29,
      "outputs": [
        {
          "output_type": "stream",
          "name": "stdout",
          "text": [
            "[[ 30  10 120]\n",
            " [ 40  20 200]\n",
            " [ 50  40 360]]\n",
            "[12500 18000 25700]\n",
            "[330. 140.  10.]\n"
          ]
        }
      ]
    },
    {
      "cell_type": "code",
      "source": [
        "from sympy import symbols, Eq, solve\n",
        "\n",
        "x1, x2, x3 = symbols('x1 x2 x3')\n",
        "\n",
        "eq1 = Eq(30*x1 + 10*x2 + 120*x3, 12500)\n",
        "eq2 = Eq(40*x1 + 20*x2 + 200*x3, 18000)\n",
        "eq3 = Eq(50*x1 + 40*x2 + 360*x3, 25700)\n",
        "\n",
        "sol = solve((eq1, eq2, eq3), (x1, x2, x3))\n",
        "\n",
        "x1 = sol[x1]\n",
        "x2 = sol[x2]\n",
        "x3 = sol[x3]\n",
        "\n",
        "print(f\"Price of flour per sack: = {x1} Pesos\")\n",
        "print(f\"Price of yeast per pack: = {x2} Pesos\")\n",
        "print(f\"Price per egg = {x3} Pesos\")"
      ],
      "metadata": {
        "colab": {
          "base_uri": "https://localhost:8080/"
        },
        "id": "_G2a58aiRV9z",
        "outputId": "f625480d-707d-4e48-ff5c-e6e1276a39e0"
      },
      "execution_count": 28,
      "outputs": [
        {
          "output_type": "stream",
          "name": "stdout",
          "text": [
            "Price of flour per sack: = 330 Pesos\n",
            "Price of yeast per pack: = 140 Pesos\n",
            "Price per egg = 10 Pesos\n"
          ]
        }
      ]
    }
  ]
}