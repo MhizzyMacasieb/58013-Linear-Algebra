{
  "nbformat": 4,
  "nbformat_minor": 0,
  "metadata": {
    "colab": {
      "provenance": [],
      "authorship_tag": "ABX9TyOq0Q1SzxqW0gIipUPbRLrG",
      "include_colab_link": true
    },
    "kernelspec": {
      "name": "python3",
      "display_name": "Python 3"
    },
    "language_info": {
      "name": "python"
    }
  },
  "cells": [
    {
      "cell_type": "markdown",
      "metadata": {
        "id": "view-in-github",
        "colab_type": "text"
      },
      "source": [
        "<a href=\"https://colab.research.google.com/github/MhizzyMacasieb/58013-Linear-Algebra/blob/main/Python%20Exercise%204.ipynb\" target=\"_parent\"><img src=\"https://colab.research.google.com/assets/colab-badge.svg\" alt=\"Open In Colab\"/></a>"
      ]
    },
    {
      "cell_type": "code",
      "source": [
        "import numpy as np\n",
        "A = np.array([[-0.4],[4.3],[-0.6]])\n",
        "B = np.array([-0.2, 0.2, 1])\n",
        "C = np.array([-0.2, 2.1, -1.5])\n",
        "\n",
        "print(A,\"\\n\")\n",
        "print(B,\"\\n\")\n",
        "print(C,\"\\n\")"
      ],
      "metadata": {
        "id": "JTNzTZwNrlAo",
        "colab": {
          "base_uri": "https://localhost:8080/"
        },
        "outputId": "cdc8edda-a882-4470-b040-fd5ebcefed97"
      },
      "execution_count": 1,
      "outputs": [
        {
          "output_type": "stream",
          "name": "stdout",
          "text": [
            "[[-0.4]\n",
            " [ 4.3]\n",
            " [-0.6]] \n",
            "\n",
            "[-0.2  0.2  1. ] \n",
            "\n",
            "[-0.2  2.1 -1.5] \n",
            "\n"
          ]
        }
      ]
    },
    {
      "cell_type": "markdown",
      "source": [
        "**Addition**"
      ],
      "metadata": {
        "id": "NKunFGbjK58P"
      }
    },
    {
      "cell_type": "code",
      "source": [
        "print(np.add(B,C))\n",
        "print(B+C)"
      ],
      "metadata": {
        "colab": {
          "base_uri": "https://localhost:8080/"
        },
        "id": "uNzPubC7K9EX",
        "outputId": "bbe3c021-bce2-4446-a9fe-f35002e85e48"
      },
      "execution_count": 2,
      "outputs": [
        {
          "output_type": "stream",
          "name": "stdout",
          "text": [
            "[-0.4  2.3 -0.5]\n",
            "[-0.4  2.3 -0.5]\n"
          ]
        }
      ]
    },
    {
      "cell_type": "markdown",
      "source": [
        "**Subtraction**"
      ],
      "metadata": {
        "id": "AUSHa5O5K_td"
      }
    },
    {
      "cell_type": "code",
      "source": [
        "print(np.subtract(C,B))\n",
        "print(C-B)"
      ],
      "metadata": {
        "colab": {
          "base_uri": "https://localhost:8080/"
        },
        "id": "-OniDkO_LBtB",
        "outputId": "75aa10ad-ea42-4b4f-9f15-55d7aabd61bb"
      },
      "execution_count": 3,
      "outputs": [
        {
          "output_type": "stream",
          "name": "stdout",
          "text": [
            "[ 0.   1.9 -2.5]\n",
            "[ 0.   1.9 -2.5]\n"
          ]
        }
      ]
    },
    {
      "cell_type": "markdown",
      "source": [
        "**Scalar Product**"
      ],
      "metadata": {
        "id": "bWUhSQthLF3s"
      }
    },
    {
      "cell_type": "code",
      "source": [
        "print(A*2)"
      ],
      "metadata": {
        "colab": {
          "base_uri": "https://localhost:8080/"
        },
        "id": "ye41-KzZLJjB",
        "outputId": "f61e748c-7550-4e6e-98a9-e59e644f2e01"
      },
      "execution_count": 4,
      "outputs": [
        {
          "output_type": "stream",
          "name": "stdout",
          "text": [
            "[[-0.8]\n",
            " [ 8.6]\n",
            " [-1.2]]\n"
          ]
        }
      ]
    },
    {
      "cell_type": "markdown",
      "source": [
        "**Dot Product**"
      ],
      "metadata": {
        "id": "S_rdtz-XLM9j"
      }
    },
    {
      "cell_type": "code",
      "source": [
        "print(np.dot(C,B),\"\\n\")\n",
        "print(np.dot(B,C),\"\\n\")"
      ],
      "metadata": {
        "colab": {
          "base_uri": "https://localhost:8080/"
        },
        "id": "bFt9869yLOvx",
        "outputId": "3d7ddf68-973f-4f05-bb39-fb7c4aa05ed5"
      },
      "execution_count": 5,
      "outputs": [
        {
          "output_type": "stream",
          "name": "stdout",
          "text": [
            "-1.04 \n",
            "\n",
            "-1.04 \n",
            "\n"
          ]
        }
      ]
    },
    {
      "cell_type": "markdown",
      "source": [
        "**Multiply**"
      ],
      "metadata": {
        "id": "HV_3nT7dLS2k"
      }
    },
    {
      "cell_type": "code",
      "source": [
        "print(np.multiply(A,B),\"\\n\")\n",
        "print(np.multiply(A,C),\"\\n\")"
      ],
      "metadata": {
        "colab": {
          "base_uri": "https://localhost:8080/"
        },
        "id": "mc1BP_iGLUvl",
        "outputId": "558d5913-0358-4e4f-c293-f439a40d8d04"
      },
      "execution_count": 6,
      "outputs": [
        {
          "output_type": "stream",
          "name": "stdout",
          "text": [
            "[[ 0.08 -0.08 -0.4 ]\n",
            " [-0.86  0.86  4.3 ]\n",
            " [ 0.12 -0.12 -0.6 ]] \n",
            "\n",
            "[[ 0.08 -0.84  0.6 ]\n",
            " [-0.86  9.03 -6.45]\n",
            " [ 0.12 -1.26  0.9 ]] \n",
            "\n"
          ]
        }
      ]
    }
  ]
}