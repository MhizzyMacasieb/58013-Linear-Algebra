{
  "nbformat": 4,
  "nbformat_minor": 0,
  "metadata": {
    "colab": {
      "provenance": [],
      "authorship_tag": "ABX9TyPqTW/LmhhIZdBnhgOOvQye",
      "include_colab_link": true
    },
    "kernelspec": {
      "name": "python3",
      "display_name": "Python 3"
    },
    "language_info": {
      "name": "python"
    }
  },
  "cells": [
    {
      "cell_type": "markdown",
      "metadata": {
        "id": "view-in-github",
        "colab_type": "text"
      },
      "source": [
        "<a href=\"https://colab.research.google.com/github/MhizzyMacasieb/58013-Linear-Algebra/blob/main/Python%20Exercise%204.ipynb\" target=\"_parent\"><img src=\"https://colab.research.google.com/assets/colab-badge.svg\" alt=\"Open In Colab\"/></a>"
      ]
    },
    {
      "cell_type": "code",
      "source": [
        "import numpy as np\n",
        "A = np.array([[-0.4],[4.3],[-0.6]])\n",
        "B = np.array([-0.2, 0.2, 1])\n",
        "C = np.array([-0.2, 2.1, -1.5])\n",
        "\n",
        "print(A,\"\\n\")\n",
        "print(B,\"\\n\")\n",
        "print(C,\"\\n\")"
      ],
      "metadata": {
        "id": "JTNzTZwNrlAo"
      },
      "execution_count": null,
      "outputs": []
    },
    {
      "cell_type": "code",
      "source": [
        "#Addition\n",
        "print(np.add(B,C))\n",
        "print(B+C)"
      ],
      "metadata": {
        "id": "FdyRlviHI55s"
      },
      "execution_count": null,
      "outputs": []
    },
    {
      "cell_type": "code",
      "source": [
        "#Subtraction\n",
        "print(np.subtract(C,B))\n",
        "print(C-B)"
      ],
      "metadata": {
        "id": "rxmcL7oYI8sH"
      },
      "execution_count": null,
      "outputs": []
    },
    {
      "cell_type": "code",
      "source": [
        "#Scalar Product\n",
        "print(A*2)"
      ],
      "metadata": {
        "id": "j-6QqeWNI-ut"
      },
      "execution_count": null,
      "outputs": []
    },
    {
      "cell_type": "code",
      "source": [
        "#Dot Product\n",
        "print(np.dot(C,B),\"\\n\")\n",
        "print(np.dot(B,C),\"\\n\")"
      ],
      "metadata": {
        "id": "aI3nNmgoI_NY"
      },
      "execution_count": null,
      "outputs": []
    },
    {
      "cell_type": "code",
      "source": [
        "#Multiply\n",
        "print(np.multiply(A,B),\"\\n\")\n",
        "print(np.multiply(A,C),\"\\n\")\n",
        ""
      ],
      "metadata": {
        "id": "Lrny7k8KJCAI"
      },
      "execution_count": null,
      "outputs": []
    }
  ]
}