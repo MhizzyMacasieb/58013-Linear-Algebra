{
  "nbformat": 4,
  "nbformat_minor": 0,
  "metadata": {
    "colab": {
      "provenance": [],
      "authorship_tag": "ABX9TyMmDFd+NT//BJVy8vsfVbsh",
      "include_colab_link": true
    },
    "kernelspec": {
      "name": "python3",
      "display_name": "Python 3"
    },
    "language_info": {
      "name": "python"
    }
  },
  "cells": [
    {
      "cell_type": "markdown",
      "metadata": {
        "id": "view-in-github",
        "colab_type": "text"
      },
      "source": [
        "<a href=\"https://colab.research.google.com/github/MhizzyMacasieb/58013-Linear-Algebra/blob/main/Python%20Exercise%209.ipynb\" target=\"_parent\"><img src=\"https://colab.research.google.com/assets/colab-badge.svg\" alt=\"Open In Colab\"/></a>"
      ]
    },
    {
      "cell_type": "code",
      "source": [
        "import numpy as np\n",
        "\n",
        "A = np.array([\n",
        "    [1,4],\n",
        "    [0,3]\n",
        "])\n",
        "np.linalg.det(A)"
      ],
      "metadata": {
        "colab": {
          "base_uri": "https://localhost:8080/"
        },
        "id": "5VW4_PQIPsz_",
        "outputId": "5e1d2ae0-6c9b-4269-960a-429c3c2d80eb"
      },
      "execution_count": 17,
      "outputs": [
        {
          "output_type": "execute_result",
          "data": {
            "text/plain": [
              "3.0000000000000004"
            ]
          },
          "metadata": {},
          "execution_count": 17
        }
      ]
    },
    {
      "cell_type": "code",
      "source": [
        "B = np.array([\n",
        "    [1,3,5,6],\n",
        "    [0,3,1,3],\n",
        "    [3,1,8,2],\n",
        "    [5,2,6,8]\n",
        "])\n",
        "np.linalg.det(B)"
      ],
      "metadata": {
        "colab": {
          "base_uri": "https://localhost:8080/"
        },
        "id": "ugH5138FPxG-",
        "outputId": "b060a813-b6a9-496c-b7f5-701a50a5940e"
      },
      "execution_count": 18,
      "outputs": [
        {
          "output_type": "execute_result",
          "data": {
            "text/plain": [
              "-235.0000000000002"
            ]
          },
          "metadata": {},
          "execution_count": 18
        }
      ]
    },
    {
      "cell_type": "markdown",
      "source": [
        "**Matrices A and B**"
      ],
      "metadata": {
        "id": "Nk-oJemzP24O"
      }
    },
    {
      "cell_type": "code",
      "source": [
        "A = np.array([[1, 2, 3], [4, 5, 6], [7, 8, 9]])\n",
        "B = np.array([[9, 8, 7], [6, 5, 4], [3, 2, 1]])\n",
        "C = np.array([[2, 3, 4], [5, 6, 7], [8, 9, 10]])\n",
        "print(A)\n",
        "print(B)\n",
        "print(C,\"\\n\")"
      ],
      "metadata": {
        "colab": {
          "base_uri": "https://localhost:8080/"
        },
        "id": "wNuUfch2PyPu",
        "outputId": "3de4ecf1-75e1-4408-ec5b-3c059e93a7c4"
      },
      "execution_count": 19,
      "outputs": [
        {
          "output_type": "stream",
          "name": "stdout",
          "text": [
            "[[1 2 3]\n",
            " [4 5 6]\n",
            " [7 8 9]]\n",
            "[[9 8 7]\n",
            " [6 5 4]\n",
            " [3 2 1]]\n",
            "[[ 2  3  4]\n",
            " [ 5  6  7]\n",
            " [ 8  9 10]] \n",
            "\n"
          ]
        }
      ]
    },
    {
      "cell_type": "markdown",
      "source": [
        "**Associativite Property**"
      ],
      "metadata": {
        "id": "wAwFbiq-P9MF"
      }
    },
    {
      "cell_type": "code",
      "source": [
        "print(\"Associativite property\")\n",
        "result1 = np.dot(np.dot(A, B), C)\n",
        "result2 = np.dot(A, np.dot(B, C))\n",
        "print(result1)\n",
        "print(result2,\"\\n\")"
      ],
      "metadata": {
        "colab": {
          "base_uri": "https://localhost:8080/"
        },
        "id": "CPJ9UFuFQITR",
        "outputId": "81c1e174-031f-4bf8-bf13-f17e39b3c5c1"
      },
      "execution_count": 24,
      "outputs": [
        {
          "output_type": "stream",
          "name": "stdout",
          "text": [
            "Associativite property\n",
            "[[ 324  396  468]\n",
            " [ 945 1152 1359]\n",
            " [1566 1908 2250]]\n",
            "[[ 324  396  468]\n",
            " [ 945 1152 1359]\n",
            " [1566 1908 2250]] \n",
            "\n"
          ]
        }
      ]
    },
    {
      "cell_type": "markdown",
      "source": [
        "**Distributive Property**"
      ],
      "metadata": {
        "id": "p-1Nt-GdQMLI"
      }
    },
    {
      "cell_type": "code",
      "source": [
        "print(\"Distributive property\")\n",
        "result3 = np.dot(A, B + C)\n",
        "result4 = np.dot(A, B) + np.dot(A, C)\n",
        "print(result3)\n",
        "print(result4,\"\\n\")"
      ],
      "metadata": {
        "colab": {
          "base_uri": "https://localhost:8080/"
        },
        "id": "HlP-_HXWQQJi",
        "outputId": "e527f864-9098-48f4-d478-a869db0c5acb"
      },
      "execution_count": 22,
      "outputs": [
        {
          "output_type": "stream",
          "name": "stdout",
          "text": [
            "Distributive property\n",
            "[[ 66  66  66]\n",
            " [165 165 165]\n",
            " [264 264 264]]\n",
            "[[ 66  66  66]\n",
            " [165 165 165]\n",
            " [264 264 264]] \n",
            "\n"
          ]
        }
      ]
    },
    {
      "cell_type": "markdown",
      "source": [
        "**Multiplicative Identity Property**"
      ],
      "metadata": {
        "id": "sjafq9VSQW8H"
      }
    },
    {
      "cell_type": "code",
      "source": [
        "print(\"Multiplicative identity property\")\n",
        "identity_matrix = np.identity(3)\n",
        "result5 = np.dot(A, identity_matrix)\n",
        "result6 = np.dot(identity_matrix, A)\n",
        "print(result5)\n",
        "print(result6,\"\\n\")"
      ],
      "metadata": {
        "colab": {
          "base_uri": "https://localhost:8080/"
        },
        "id": "s0DHe9nPQcET",
        "outputId": "e80a2f85-3bfd-4231-ea65-ceefeff7aa26"
      },
      "execution_count": 23,
      "outputs": [
        {
          "output_type": "stream",
          "name": "stdout",
          "text": [
            "Multiplicative identity property\n",
            "[[1. 2. 3.]\n",
            " [4. 5. 6.]\n",
            " [7. 8. 9.]]\n",
            "[[1. 2. 3.]\n",
            " [4. 5. 6.]\n",
            " [7. 8. 9.]] \n",
            "\n"
          ]
        }
      ]
    },
    {
      "cell_type": "markdown",
      "source": [
        "**Dimension Property**"
      ],
      "metadata": {
        "id": "vdkg2AitQuMa"
      }
    },
    {
      "cell_type": "code",
      "source": [
        "print(\"Dimension Property\")\n",
        "k = 2\n",
        "result7 = np.dot(k * A, B)\n",
        "result8 = k * np.dot(A, B)\n",
        "print(result7)\n",
        "print(result8,\"\\n\")"
      ],
      "metadata": {
        "colab": {
          "base_uri": "https://localhost:8080/"
        },
        "id": "eZ6TPKU8QwlJ",
        "outputId": "f95e6e24-4ef0-4722-e979-bbaae69a4826"
      },
      "execution_count": 25,
      "outputs": [
        {
          "output_type": "stream",
          "name": "stdout",
          "text": [
            "Dimension Property\n",
            "[[ 60  48  36]\n",
            " [168 138 108]\n",
            " [276 228 180]]\n",
            "[[ 60  48  36]\n",
            " [168 138 108]\n",
            " [276 228 180]] \n",
            "\n"
          ]
        }
      ]
    },
    {
      "cell_type": "markdown",
      "source": [
        "**Commutative Property**"
      ],
      "metadata": {
        "id": "e8ZC3or6Q0xI"
      }
    },
    {
      "cell_type": "code",
      "source": [
        "print(\"Commutative property\")\n",
        "result9 = np.dot(A, B)\n",
        "result10 = np.dot(B, A)\n",
        "print(result9)\n",
        "print(result10,\"\\n\")"
      ],
      "metadata": {
        "colab": {
          "base_uri": "https://localhost:8080/"
        },
        "id": "UjjC0iFWQ6u3",
        "outputId": "c6b6d4d5-b842-43ea-857f-8f16c1d59cde"
      },
      "execution_count": 26,
      "outputs": [
        {
          "output_type": "stream",
          "name": "stdout",
          "text": [
            "Commutative property\n",
            "[[ 30  24  18]\n",
            " [ 84  69  54]\n",
            " [138 114  90]]\n",
            "[[ 90 114 138]\n",
            " [ 54  69  84]\n",
            " [ 18  24  30]] \n",
            "\n"
          ]
        }
      ]
    },
    {
      "cell_type": "markdown",
      "source": [
        "**Zero Matrix**"
      ],
      "metadata": {
        "id": "L_MlGM6VQ9pE"
      }
    },
    {
      "cell_type": "code",
      "source": [
        "print(\"Zero Matrix\")\n",
        "zero_matrix = np.zeros((3, 3))\n",
        "result11 = np.dot(A, zero_matrix)\n",
        "result12 = np.dot(zero_matrix, A)\n",
        "print(result11)\n",
        "print(result12,\"\\n\")"
      ],
      "metadata": {
        "colab": {
          "base_uri": "https://localhost:8080/"
        },
        "id": "FCcjM2N_RApK",
        "outputId": "da2d12d7-84d3-4822-b620-47e1f603c79d"
      },
      "execution_count": 27,
      "outputs": [
        {
          "output_type": "stream",
          "name": "stdout",
          "text": [
            "Zero Matrix\n",
            "[[0. 0. 0.]\n",
            " [0. 0. 0.]\n",
            " [0. 0. 0.]]\n",
            "[[0. 0. 0.]\n",
            " [0. 0. 0.]\n",
            " [0. 0. 0.]] \n",
            "\n"
          ]
        }
      ]
    }
  ]
}